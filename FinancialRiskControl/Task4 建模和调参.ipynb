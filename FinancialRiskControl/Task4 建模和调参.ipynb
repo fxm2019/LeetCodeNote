{
 "cells": [
  {
   "cell_type": "markdown",
   "metadata": {},
   "source": [
    "## 4.2 内容介绍\n",
    "\n",
    "- 逻辑回归模型：\n",
    "\n",
    "  - 理解逻辑回归模型；\n",
    "  - 逻辑回归模型的应用；\n",
    "  - 逻辑回归的优缺点；\n",
    "\n",
    "- 树模型：\n",
    "\n",
    "  - 理解树模型；\n",
    "  - 树模型的应用；\n",
    "  - 树模型的优缺点；\n",
    "\n",
    "- 集成模型\n",
    "\n",
    "  - 基于bagging思想的集成模型\n",
    "    - 随机森林模型\n",
    "  - 基于boosting思想的集成模型\n",
    "    - XGBoost模型\n",
    "    - LightGBM模型\n",
    "    - CatBoost模型\n",
    "\n",
    "- 模型对比与性能评估：\n",
    "\n",
    "  - 回归模型/树模型/集成模型；\n",
    "  - 模型评估方法；\n",
    "  - 模型评价结果；\n",
    "\n",
    "- 模型调参：\n",
    "\n",
    "  - 贪心调参方法；\n",
    "\n",
    "  - 网格调参方法；\n",
    "\n",
    "  - 贝叶斯调参方法； "
   ]
  },
  {
   "cell_type": "code",
   "execution_count": 1,
   "metadata": {},
   "outputs": [
    {
     "ename": "ImportError",
     "evalue": "No module named 'seaborn'",
     "output_type": "error",
     "traceback": [
      "\u001b[1;31m---------------------------------------------------------------------------\u001b[0m",
      "\u001b[1;31mImportError\u001b[0m                               Traceback (most recent call last)",
      "\u001b[1;32m<ipython-input-1-bd5427b11925>\u001b[0m in \u001b[0;36m<module>\u001b[1;34m()\u001b[0m\n\u001b[0;32m      3\u001b[0m \u001b[1;32mimport\u001b[0m \u001b[0mwarnings\u001b[0m\u001b[1;33m\u001b[0m\u001b[0m\n\u001b[0;32m      4\u001b[0m \u001b[1;32mimport\u001b[0m \u001b[0mos\u001b[0m\u001b[1;33m\u001b[0m\u001b[0m\n\u001b[1;32m----> 5\u001b[1;33m \u001b[1;32mimport\u001b[0m \u001b[0mseaborn\u001b[0m \u001b[1;32mas\u001b[0m \u001b[0msns\u001b[0m\u001b[1;33m\u001b[0m\u001b[0m\n\u001b[0m\u001b[0;32m      6\u001b[0m \u001b[1;32mimport\u001b[0m \u001b[0mmatplotlib\u001b[0m\u001b[1;33m.\u001b[0m\u001b[0mpyplot\u001b[0m \u001b[1;32mas\u001b[0m \u001b[0mplt\u001b[0m\u001b[1;33m\u001b[0m\u001b[0m\n",
      "\u001b[1;31mImportError\u001b[0m: No module named 'seaborn'"
     ]
    }
   ],
   "source": [
    "import pandas as pd\n",
    "import numpy as np\n",
    "import warnings\n",
    "import os\n",
    "import seaborn as sns\n",
    "import matplotlib.pyplot as plt"
   ]
  },
  {
   "cell_type": "code",
   "execution_count": 4,
   "metadata": {},
   "outputs": [],
   "source": [
    "train = pd.read_csv('./train.csv')\n",
    "test_a = pd.read_csv('./testA.csv')\n"
   ]
  },
  {
   "cell_type": "code",
   "execution_count": 28,
   "metadata": {},
   "outputs": [
    {
     "data": {
      "text/plain": [
       "0     Aug-2001\n",
       "1     May-2002\n",
       "2     May-2006\n",
       "3     May-1999\n",
       "4     Aug-1977\n",
       "5     Jul-1998\n",
       "6     Oct-2006\n",
       "7     Dec-1994\n",
       "8     Apr-1994\n",
       "9     Jan-1993\n",
       "10    Nov-1996\n",
       "11    Aug-2007\n",
       "12    Feb-2014\n",
       "13    Oct-1983\n",
       "14    May-2011\n",
       "15    Oct-1996\n",
       "16    Mar-2002\n",
       "17    Jun-1995\n",
       "18    Aug-2001\n",
       "19    Oct-1999\n",
       "Name: earliesCreditLine, dtype: object"
      ]
     },
     "execution_count": 28,
     "metadata": {},
     "output_type": "execute_result"
    }
   ],
   "source": [
    "train['earliesCreditLine'].head(20)"
   ]
  },
  {
   "cell_type": "code",
   "execution_count": 29,
   "metadata": {},
   "outputs": [
    {
     "data": {
      "text/plain": [
       "0         Aug-2001\n",
       "1         May-2002\n",
       "2         May-2006\n",
       "3         May-1999\n",
       "4         Aug-1977\n",
       "            ...   \n",
       "799975    Mar-1993\n",
       "799976    Nov-2003\n",
       "799977    Mar-2002\n",
       "799978    Oct-1992\n",
       "799979    Oct-1990\n",
       "Name: earliesCreditLine, Length: 799980, dtype: object"
      ]
     },
     "execution_count": 29,
     "metadata": {},
     "output_type": "execute_result"
    }
   ],
   "source": [
    "train['earliesCreditLine'].head(-20)"
   ]
  },
  {
   "cell_type": "code",
   "execution_count": null,
   "metadata": {},
   "outputs": [],
   "source": [
    "train['earliesCreditLine'][]"
   ]
  }
 ],
 "metadata": {
  "kernelspec": {
   "display_name": "Python 3",
   "language": "python",
   "name": "python3"
  },
  "language_info": {
   "codemirror_mode": {
    "name": "ipython",
    "version": 3
   },
   "file_extension": ".py",
   "mimetype": "text/x-python",
   "name": "python",
   "nbconvert_exporter": "python",
   "pygments_lexer": "ipython3",
   "version": "3.5.6"
  }
 },
 "nbformat": 4,
 "nbformat_minor": 2
}
